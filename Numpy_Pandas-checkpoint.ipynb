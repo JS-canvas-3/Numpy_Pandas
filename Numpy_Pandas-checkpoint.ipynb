{
 "cells": [
  {
   "cell_type": "code",
   "execution_count": 1,
   "id": "9bc3236b-18bf-4182-8956-9b5f341a754f",
   "metadata": {},
   "outputs": [],
   "source": [
    "import numpy as np\n",
    "import pandas as pd"
   ]
  },
  {
   "cell_type": "code",
   "execution_count": 2,
   "id": "b15dc3c4-fa61-454d-a7ae-9b7da3ba1cbc",
   "metadata": {},
   "outputs": [
    {
     "name": "stdout",
     "output_type": "stream",
     "text": [
      "Question 1:\n",
      "[[ 1  2  3  4  5]\n",
      " [ 6  7  8  9 10]]\n"
     ]
    }
   ],
   "source": [
    "1.#Create a numpy array from 1 to 10 and reshape it to a 2x5 matrix\n",
    "array1 = np.arange(1, 11)\n",
    "reshaped_array = array1.reshape(2, 5)\n",
    "print(\"Question 1:\")\n",
    "print(reshaped_array)"
   ]
  },
  {
   "cell_type": "code",
   "execution_count": 3,
   "id": "58b135cb-b8ff-412b-a840-6f80a498ace8",
   "metadata": {},
   "outputs": [
    {
     "name": "stdout",
     "output_type": "stream",
     "text": [
      "Question 2:\n",
      "[ 6  7  8  9 10 11 12 13 14 15 16]\n"
     ]
    }
   ],
   "source": [
    "2.#Create a numpy array from 1 to 20 and extract elements between 5th and 15th index\n",
    "array2 = np.arange(1, 21)\n",
    "extracted_elements = array2[5:16]  \n",
    "print(\"Question 2:\")\n",
    "print(extracted_elements)"
   ]
  },
  {
   "cell_type": "code",
   "execution_count": 4,
   "id": "a2c113cd-9f12-459e-a6da-71e5e4b6fd2f",
   "metadata": {},
   "outputs": [
    {
     "name": "stdout",
     "output_type": "stream",
     "text": [
      "Question 3:\n",
      "apples     3\n",
      "bananas    2\n",
      "oranges    1\n",
      "pears      4\n",
      "dtype: int64\n"
     ]
    }
   ],
   "source": [
    "3.#Create a Pandas series and add a new item\n",
    "fruitseries = pd.Series({'apples': 3, 'bananas': 2, 'oranges': 1})\n",
    "fruitseries['pears'] = 4\n",
    "print(\"Question 3:\")\n",
    "print(fruitseries)"
   ]
  },
  {
   "cell_type": "code",
   "execution_count": 5,
   "id": "4bd01498-cd43-4b21-9cf9-77116c7ac03c",
   "metadata": {},
   "outputs": [
    {
     "name": "stdout",
     "output_type": "stream",
     "text": [
      "Question 4:\n",
      "        name  age  gender\n",
      "0      Angel   25  Female\n",
      "1  Ashirvath   30    Male\n",
      "2    Chemban   35    Male\n",
      "3       Evan   40    Male\n",
      "4  Chandrika   28  Female\n",
      "5      Daisy   22  Female\n",
      "6     Franko   31    Male\n",
      "7      Grace   27  Female\n",
      "8       Hari   33    Male\n",
      "9        Iza   29  Female\n"
     ]
    }
   ],
   "source": [
    "4.#Create a dataframe with 10 rows of data\n",
    "names = [\"Angel\", \"Ashirvath\", \"Chemban\", \"Evan\", \"Chandrika\", \"Daisy\", \"Franko\", \"Grace\", \"Hari\", \"Iza\"]\n",
    "ages = [25, 30, 35, 40, 28, 22, 31, 27, 33, 29]\n",
    "genders = [\"Female\", \"Male\", \"Male\", \"Male\", \"Female\", \"Female\", \"Male\", \"Female\", \"Male\", \"Female\"]\n",
    "data = {\n",
    "    \"name\": names,\n",
    "    \"age\": ages,\n",
    "    \"gender\": genders\n",
    "}\n",
    "df = pd.DataFrame(data)\n",
    "print(\"Question 4:\")\n",
    "print(df)"
   ]
  },
  {
   "cell_type": "code",
   "execution_count": 6,
   "id": "7cb33a1b-3e50-4142-a79c-e81141a1e6b5",
   "metadata": {},
   "outputs": [
    {
     "name": "stdout",
     "output_type": "stream",
     "text": [
      "Question 5:\n",
      "        name  age  gender         occupation\n",
      "0      Angel   25  Female         Programmer\n",
      "1  Ashirvath   30    Male            Manager\n",
      "2    Chemban   35    Male            Analyst\n",
      "3       Evan   40    Male                 HR\n",
      "4  Chandrika   28  Female          G.Manager\n",
      "5      Daisy   22  Female          Team Lead\n",
      "6     Franko   31    Male     Senior Analyst\n",
      "7      Grace   27  Female     Branch Manager\n",
      "8       Hari   33    Male             Tester\n",
      "9        Iza   29  Female  Senior Programmer\n"
     ]
    }
   ],
   "source": [
    "5.# Add a new column 'occupation' to the dataframe\n",
    "occupations = [\"Programmer\", \"Manager\", \"Analyst\", \"HR\", \"G.Manager\", \"Team Lead\", \"Senior Analyst\", \"Branch Manager\", \"Tester\", \"Senior Programmer\"]\n",
    "df[\"occupation\"] = occupations\n",
    "print(\"Question 5:\")\n",
    "print(df)\n"
   ]
  },
  {
   "cell_type": "code",
   "execution_count": 7,
   "id": "127ef20b-1454-49fa-a1f0-67b6b46ba12b",
   "metadata": {},
   "outputs": [
    {
     "name": "stdout",
     "output_type": "stream",
     "text": [
      "Question 6:\n",
      "        name  age gender      occupation\n",
      "1  Ashirvath   30   Male         Manager\n",
      "2    Chemban   35   Male         Analyst\n",
      "3       Evan   40   Male              HR\n",
      "6     Franko   31   Male  Senior Analyst\n",
      "8       Hari   33   Male          Tester\n"
     ]
    }
   ],
   "source": [
    "6.#Select rows where age is greater than or equal to 30\n",
    "filtered_df = df[df[\"age\"] >= 30]\n",
    "print(\"Question 6:\")\n",
    "print(filtered_df)"
   ]
  },
  {
   "cell_type": "code",
   "execution_count": 8,
   "id": "352068df-5ff3-4ca4-af73-c065805ba51c",
   "metadata": {},
   "outputs": [],
   "source": [
    "7.#Convert the dataframe to a CSV file and read it back\n",
    "csv_filename = \"dataframe.csv\"\n",
    "df.to_csv(csv_filename, index=False)"
   ]
  },
  {
   "cell_type": "code",
   "execution_count": 9,
   "id": "3438a47d-45de-4282-a10a-6a13a7f0fa8d",
   "metadata": {},
   "outputs": [
    {
     "name": "stdout",
     "output_type": "stream",
     "text": [
      "Question 7:\n",
      "        name  age  gender         occupation\n",
      "0      Angel   25  Female         Programmer\n",
      "1  Ashirvath   30    Male            Manager\n",
      "2    Chemban   35    Male            Analyst\n",
      "3       Evan   40    Male                 HR\n",
      "4  Chandrika   28  Female          G.Manager\n",
      "5      Daisy   22  Female          Team Lead\n",
      "6     Franko   31    Male     Senior Analyst\n",
      "7      Grace   27  Female     Branch Manager\n",
      "8       Hari   33    Male             Tester\n",
      "9        Iza   29  Female  Senior Programmer\n"
     ]
    }
   ],
   "source": [
    "read_df = pd.read_csv(csv_filename)\n",
    "print(\"Question 7:\")\n",
    "print(read_df)\n"
   ]
  },
  {
   "cell_type": "code",
   "execution_count": null,
   "id": "e9cd3a4f-f211-4e25-b25f-e3c83c2164ee",
   "metadata": {},
   "outputs": [],
   "source": []
  }
 ],
 "metadata": {
  "kernelspec": {
   "display_name": "Python 3 (ipykernel)",
   "language": "python",
   "name": "python3"
  },
  "language_info": {
   "codemirror_mode": {
    "name": "ipython",
    "version": 3
   },
   "file_extension": ".py",
   "mimetype": "text/x-python",
   "name": "python",
   "nbconvert_exporter": "python",
   "pygments_lexer": "ipython3",
   "version": "3.12.7"
  }
 },
 "nbformat": 4,
 "nbformat_minor": 5
}
