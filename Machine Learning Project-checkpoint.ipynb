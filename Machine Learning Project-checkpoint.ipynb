{
 "cells": [
  {
   "cell_type": "markdown",
   "id": "9cb42093-7e18-47e9-abf5-2446a4a4dd66",
   "metadata": {},
   "source": [
    "The dataset contains 205 car entries with 26 features, including both categorical and numerical variables. The target variable for prediction is price."
   ]
  },
  {
   "cell_type": "markdown",
   "id": "d3f0ebbf-5776-40fb-abeb-84827d163c0e",
   "metadata": {},
   "source": [
    " # 1. Loading and Preprocessing the dataset."
   ]
  },
  {
   "cell_type": "code",
   "execution_count": 1,
   "id": "c4c2c6a3-ffce-40f6-9410-41dce69d06bd",
   "metadata": {},
   "outputs": [],
   "source": [
    "import pandas as pd\n",
    "import numpy as np\n",
    "from sklearn.model_selection import train_test_split\n",
    "from sklearn.preprocessing import StandardScaler\n"
   ]
  },
  {
   "cell_type": "code",
   "execution_count": 2,
   "id": "cdb9a700-d269-40eb-9f35-e7ff1ebd42ab",
   "metadata": {},
   "outputs": [],
   "source": [
    "df = pd.read_csv(\"C:\\\\Users\\\\sneha\\\\Downloads\\\\CarPrice_Assignment.csv\")"
   ]
  },
  {
   "cell_type": "markdown",
   "id": "007366da-32ac-4b16-b734-fcd53bfdbc45",
   "metadata": {},
   "source": [
    "# Extract car brand from carname."
   ]
  },
  {
   "cell_type": "code",
   "execution_count": 3,
   "id": "c8aa18c7-46e7-4cf5-9e95-43266899cdb1",
   "metadata": {},
   "outputs": [],
   "source": [
    "df['CarBrand'] = df['CarName'].apply(lambda x: x.split()[0].lower())"
   ]
  },
  {
   "cell_type": "markdown",
   "id": "08b535d5-b854-4d26-a61a-a16e0820667e",
   "metadata": {},
   "source": [
    "# Fix type in brand names."
   ]
  },
  {
   "cell_type": "code",
   "execution_count": 5,
   "id": "d3602112-b598-49f3-b6e6-11af46c324a8",
   "metadata": {},
   "outputs": [
    {
     "data": {
      "text/plain": [
       "0      alfa-romero\n",
       "1      alfa-romero\n",
       "2      alfa-romero\n",
       "3             audi\n",
       "4             audi\n",
       "          ...     \n",
       "200          volvo\n",
       "201          volvo\n",
       "202          volvo\n",
       "203          volvo\n",
       "204          volvo\n",
       "Name: CarBrand, Length: 205, dtype: object"
      ]
     },
     "execution_count": 5,
     "metadata": {},
     "output_type": "execute_result"
    }
   ],
   "source": [
    "df['CarBrand'].replace({\n",
    "    'vw': 'volkswagen',\n",
    "    'vokswagen': 'volkswagen',\n",
    "    'porcshce': 'porsche',\n",
    "    'toyouta': 'toyota',\n",
    "    'maxda': 'mazda'\n",
    "})"
   ]
  },
  {
   "cell_type": "markdown",
   "id": "65e5e8b1-b82f-4d83-8dde-aa5ea2d8efed",
   "metadata": {},
   "source": [
    "# Drop unnecsessry columns."
   ]
  },
  {
   "cell_type": "code",
   "execution_count": 6,
   "id": "b2a7f70b-791f-4abb-8467-f97bd4934d83",
   "metadata": {},
   "outputs": [],
   "source": [
    "df.drop(['car_ID', 'CarName'], axis=1, inplace=True)\n"
   ]
  },
  {
   "cell_type": "code",
   "execution_count": 7,
   "id": "360686eb-1252-4d59-aac4-1cb21183e4f0",
   "metadata": {},
   "outputs": [],
   "source": [
    "df = pd.get_dummies(df, drop_first=True)"
   ]
  },
  {
   "cell_type": "markdown",
   "id": "d95c7fb7-e692-4837-852a-a7623d4e6fec",
   "metadata": {},
   "source": [
    "# Split the Dataset."
   ]
  },
  {
   "cell_type": "code",
   "execution_count": 8,
   "id": "8cd6911c-3479-4767-b6e3-019d9439d0f8",
   "metadata": {},
   "outputs": [],
   "source": [
    "X = df.drop('price', axis=1)\n",
    "y = df['price']"
   ]
  },
  {
   "cell_type": "markdown",
   "id": "ef822a38-9bba-468d-a3b7-e5c52c480d70",
   "metadata": {},
   "source": [
    "# Train the dataset."
   ]
  },
  {
   "cell_type": "code",
   "execution_count": 9,
   "id": "646244d4-e2a1-4230-ba82-3c1cafb9eae8",
   "metadata": {},
   "outputs": [],
   "source": [
    "X_train, X_test, y_train, y_test = train_test_split(X, y, test_size=0.2, random_state=42)"
   ]
  },
  {
   "cell_type": "markdown",
   "id": "cd152afd-8f0d-4973-bc8c-df324eb44412",
   "metadata": {},
   "source": [
    "# Standardization."
   ]
  },
  {
   "cell_type": "code",
   "execution_count": 10,
   "id": "41cbdb29-c83d-4929-b041-cb0e758140d3",
   "metadata": {},
   "outputs": [],
   "source": [
    "scaler = StandardScaler()\n",
    "X_train_scaled = scaler.fit_transform(X_train)\n",
    "X_test_scaled = scaler.transform(X_test)"
   ]
  },
  {
   "cell_type": "markdown",
   "id": "60bd27ad-f60b-42fa-a8b8-9e8da1cdb3b1",
   "metadata": {},
   "source": [
    "# 2. Model implementation."
   ]
  },
  {
   "cell_type": "code",
   "execution_count": 11,
   "id": "0913dfe9-614a-4b8d-a092-eb340403d068",
   "metadata": {},
   "outputs": [],
   "source": [
    "from sklearn.linear_model import LinearRegression\n",
    "from sklearn.tree import DecisionTreeRegressor\n",
    "from sklearn.ensemble import RandomForestRegressor, GradientBoostingRegressor\n",
    "from sklearn.svm import SVR\n",
    "\n",
    "models = {\n",
    "    \"Linear Regression\": LinearRegression(),\n",
    "    \"Decision Tree\": DecisionTreeRegressor(random_state=42),\n",
    "    \"Random Forest\": RandomForestRegressor(random_state=42),\n",
    "    \"Gradient Boosting\": GradientBoostingRegressor(random_state=42),\n",
    "    \"SVR\": SVR()\n",
    "}"
   ]
  },
  {
   "cell_type": "markdown",
   "id": "a30fe3ef-25b0-4bfd-b3e7-5006ebccdde5",
   "metadata": {},
   "source": [
    "# 3. Model Evaluation.\n"
   ]
  },
  {
   "cell_type": "code",
   "execution_count": 12,
   "id": "12319719-a686-494b-b5c4-a638ef08dedc",
   "metadata": {},
   "outputs": [
    {
     "data": {
      "text/html": [
       "<div>\n",
       "<style scoped>\n",
       "    .dataframe tbody tr th:only-of-type {\n",
       "        vertical-align: middle;\n",
       "    }\n",
       "\n",
       "    .dataframe tbody tr th {\n",
       "        vertical-align: top;\n",
       "    }\n",
       "\n",
       "    .dataframe thead th {\n",
       "        text-align: right;\n",
       "    }\n",
       "</style>\n",
       "<table border=\"1\" class=\"dataframe\">\n",
       "  <thead>\n",
       "    <tr style=\"text-align: right;\">\n",
       "      <th></th>\n",
       "      <th>Model</th>\n",
       "      <th>R-squared</th>\n",
       "      <th>MSE</th>\n",
       "      <th>MAE</th>\n",
       "    </tr>\n",
       "  </thead>\n",
       "  <tbody>\n",
       "    <tr>\n",
       "      <th>0</th>\n",
       "      <td>Random Forest</td>\n",
       "      <td>0.958417</td>\n",
       "      <td>3.282767e+06</td>\n",
       "      <td>1288.825012</td>\n",
       "    </tr>\n",
       "    <tr>\n",
       "      <th>1</th>\n",
       "      <td>Gradient Boosting</td>\n",
       "      <td>0.924181</td>\n",
       "      <td>5.985429e+06</td>\n",
       "      <td>1710.336389</td>\n",
       "    </tr>\n",
       "    <tr>\n",
       "      <th>2</th>\n",
       "      <td>Linear Regression</td>\n",
       "      <td>0.909701</td>\n",
       "      <td>7.128547e+06</td>\n",
       "      <td>1763.565986</td>\n",
       "    </tr>\n",
       "    <tr>\n",
       "      <th>3</th>\n",
       "      <td>Decision Tree</td>\n",
       "      <td>0.906907</td>\n",
       "      <td>7.349134e+06</td>\n",
       "      <td>1782.589439</td>\n",
       "    </tr>\n",
       "    <tr>\n",
       "      <th>4</th>\n",
       "      <td>SVR</td>\n",
       "      <td>-0.100646</td>\n",
       "      <td>8.688943e+07</td>\n",
       "      <td>5701.535891</td>\n",
       "    </tr>\n",
       "  </tbody>\n",
       "</table>\n",
       "</div>"
      ],
      "text/plain": [
       "               Model  R-squared           MSE          MAE\n",
       "0      Random Forest   0.958417  3.282767e+06  1288.825012\n",
       "1  Gradient Boosting   0.924181  5.985429e+06  1710.336389\n",
       "2  Linear Regression   0.909701  7.128547e+06  1763.565986\n",
       "3      Decision Tree   0.906907  7.349134e+06  1782.589439\n",
       "4                SVR  -0.100646  8.688943e+07  5701.535891"
      ]
     },
     "execution_count": 12,
     "metadata": {},
     "output_type": "execute_result"
    }
   ],
   "source": [
    "from sklearn.metrics import mean_squared_error, mean_absolute_error, r2_score\n",
    "\n",
    "results = []\n",
    "\n",
    "for name, model in models.items():\n",
    "    if name == \"SVR\":\n",
    "        model.fit(X_train_scaled, y_train)\n",
    "        y_pred = model.predict(X_test_scaled)\n",
    "    else:\n",
    "        model.fit(X_train, y_train)\n",
    "        y_pred = model.predict(X_test)\n",
    "    \n",
    "    r2 = r2_score(y_test, y_pred)\n",
    "    mse = mean_squared_error(y_test, y_pred)\n",
    "    mae = mean_absolute_error(y_test, y_pred)\n",
    "    \n",
    "    results.append({\n",
    "        \"Model\": name,\n",
    "        \"R-squared\": r2,\n",
    "        \"MSE\": mse,\n",
    "        \"MAE\": mae\n",
    "    })\n",
    "\n",
    "results_df = pd.DataFrame(results).sort_values(by=\"R-squared\", ascending=False)\n",
    "results_df.reset_index(drop=True, inplace=True)\n",
    "results_df"
   ]
  },
  {
   "cell_type": "markdown",
   "id": "31365242-8fdf-4136-a7b9-f1f23d08dff7",
   "metadata": {},
   "source": [
    "# 4. Feature Analysis."
   ]
  },
  {
   "cell_type": "code",
   "execution_count": 14,
   "id": "3254a7b6-0e57-43bc-971e-7220a38f927e",
   "metadata": {},
   "outputs": [
    {
     "data": {
      "image/png": "[encoded data removed]",
      "text/plain": [
       "<Figure size 1200x800 with 1 Axes>"
      ]
     },
     "metadata": {},
     "output_type": "display_data"
    }
   ],
   "source": [
    "import matplotlib.pyplot as plt\n",
    "import seaborn as sns\n",
    "\n",
    "\n",
    "best_model = models[\"Random Forest\"]\n",
    "\n",
    "feature_importance = pd.DataFrame({\n",
    "    'Feature': X.columns,\n",
    "    'Importance': best_model.feature_importances_\n",
    "}).sort_values(by='Importance', ascending=False)\n",
    "\n",
    "\n",
    "plt.figure(figsize=(12, 8))\n",
    "sns.barplot(data=feature_importance.head(15), x='Importance', y='Feature')\n",
    "plt.title('Top Important Features Influencing Car Price')\n",
    "plt.tight_layout()\n",
    "plt.show()"
   ]
  },
  {
   "cell_type": "markdown",
   "id": "38e48e7b-44be-444b-bd6a-3193f3478075",
   "metadata": {},
   "source": [
    "# 5. Hyperparameter Tuning."
   ]
  },
  {
   "cell_type": "code",
   "execution_count": 16,
   "id": "3c7f27c0-db94-4852-8efb-d44ca02dcbe2",
   "metadata": {},
   "outputs": [
    {
     "name": "stdout",
     "output_type": "stream",
     "text": [
      "Fitting 3 folds for each of 12 candidates, totalling 36 fits\n",
      "Tuned Random Forest R²: 0.9598851487885321\n",
      "Tuned MSE: 3166827.6516224784\n",
      "Tuned MAE: 1231.1514115931977\n"
     ]
    }
   ],
   "source": [
    "from sklearn.model_selection import GridSearchCV\n",
    "\n",
    "param_grid = {\n",
    "    'n_estimators': [100, 200],\n",
    "    'max_depth': [None, 10, 20],\n",
    "    'min_samples_split': [2, 5]\n",
    "}\n",
    "\n",
    "grid_search = GridSearchCV(\n",
    "    estimator=RandomForestRegressor(random_state=42),\n",
    "    param_grid=param_grid,\n",
    "    scoring='r2',\n",
    "    cv=3,\n",
    "    n_jobs=-1,\n",
    "    verbose=1\n",
    ")\n",
    "grid_search.fit(X_train, y_train)\n",
    "best_rf = grid_search.best_estimator_\n",
    "\n",
    "\n",
    "y_pred_best = best_rf.predict(X_test)\n",
    "\n",
    "print(\"Tuned Random Forest R²:\", r2_score(y_test, y_pred_best))\n",
    "print(\"Tuned MSE:\", mean_squared_error(y_test, y_pred_best))\n",
    "print(\"Tuned MAE:\", mean_absolute_error(y_test, y_pred_best))"
   ]
  },
  {
   "cell_type": "code",
   "execution_count": null,
   "id": "40d8ba48-33f1-4b1a-bdb8-712e876b7e12",
   "metadata": {},
   "outputs": [],
   "source": []
  }
 ],
 "metadata": {
  "kernelspec": {
   "display_name": "Python 3 (ipykernel)",
   "language": "python",
   "name": "python3"
  },
  "language_info": {
   "codemirror_mode": {
    "name": "ipython",
    "version": 3
   },
   "file_extension": ".py",
   "mimetype": "text/x-python",
   "name": "python",
   "nbconvert_exporter": "python",
   "pygments_lexer": "ipython3",
   "version": "3.12.7"
  }
 },
 "nbformat": 4,
 "nbformat_minor": 5
}
