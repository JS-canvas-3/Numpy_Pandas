{
 "cells": [
  {
   "cell_type": "code",
   "execution_count": 1,
   "id": "f0525aeb-38a5-4fdd-879f-ec7218fcbf35",
   "metadata": {},
   "outputs": [],
   "source": [
    "from sklearn.datasets import load_breast_cancer\n",
    "from sklearn.model_selection import train_test_split\n",
    "from sklearn.preprocessing import StandardScaler\n",
    "from sklearn.linear_model import LogisticRegression\n",
    "from sklearn.tree import DecisionTreeClassifier\n",
    "from sklearn.ensemble import RandomForestClassifier\n",
    "from sklearn.svm import SVC\n",
    "from sklearn.neighbors import KNeighborsClassifier\n",
    "from sklearn.metrics import accuracy_score\n",
    "import pandas as pd"
   ]
  },
  {
   "cell_type": "code",
   "execution_count": null,
   "id": "34638e9c-87d3-4063-8df9-5f38de538ae0",
   "metadata": {},
   "outputs": [],
   "source": [
    "#1. Loading and Preprocessing:\n",
    "\n",
    "Loads the breast cancer dataset.\n",
    "\n",
    "Splits it into training and test sets.\n",
    "\n",
    "Apply feature scaling using StandardScaler()."
   ]
  },
  {
   "cell_type": "code",
   "execution_count": 2,
   "id": "8b37dd9e-ec6b-494c-8bc5-d5172606e767",
   "metadata": {},
   "outputs": [],
   "source": [
    "# Load dataset\n",
    "data = load_breast_cancer()\n",
    "X, y = data.data, data.target"
   ]
  },
  {
   "cell_type": "code",
   "execution_count": 3,
   "id": "fedd8541-0c1e-4283-b9c1-632c809c0b03",
   "metadata": {},
   "outputs": [],
   "source": [
    "# Split into training and test sets\n",
    "X_train, X_test, y_train, y_test = train_test_split(X, y, test_size=0.2, random_state=42)"
   ]
  },
  {
   "cell_type": "code",
   "execution_count": 4,
   "id": "eb61b88c-f12a-41ec-b9ef-de944be3f43c",
   "metadata": {},
   "outputs": [],
   "source": [
    "# Feature scaling\n",
    "scaler = StandardScaler()\n",
    "X_train = scaler.fit_transform(X_train)\n",
    "X_test = scaler.transform(X_test)"
   ]
  },
  {
   "cell_type": "code",
   "execution_count": null,
   "id": "83dc5887-0270-4bc8-9e0a-9b95dcaa557e",
   "metadata": {},
   "outputs": [],
   "source": [
    "# 2. Classification Algorithm Implementation:\n",
    "\n",
    "Implements five classification algorithms: Logistic Regression, Decision Tree, Random Forest, SVM, and k-NN.\n",
    "\n",
    "Trains each model and evaluates accuracy on the test set."
   ]
  },
  {
   "cell_type": "code",
   "execution_count": 5,
   "id": "7fc807a1-7f7e-41d8-9e19-6069d8de6f68",
   "metadata": {},
   "outputs": [],
   "source": [
    "# 2. Classification Algorithm Implementation\n",
    "models = {\n",
    "    \"Logistic Regression\": LogisticRegression(),\n",
    "    \"Decision Tree\": DecisionTreeClassifier(),\n",
    "    \"Random Forest\": RandomForestClassifier(),\n",
    "    \"SVM\": SVC(),\n",
    "    \"k-NN\": KNeighborsClassifier()\n",
    "}\n"
   ]
  },
  {
   "cell_type": "code",
   "execution_count": 6,
   "id": "7ff3ad16-b300-46cb-8962-0629417f6af8",
   "metadata": {},
   "outputs": [],
   "source": [
    "# Train and evaluate models\n",
    "results = {}\n",
    "for name, model in models.items():\n",
    "    model.fit(X_train, y_train)\n",
    "    y_pred = model.predict(X_test)\n",
    "    accuracy = accuracy_score(y_test, y_pred)\n",
    "    results[name] = accuracy\n"
   ]
  },
  {
   "cell_type": "code",
   "execution_count": null,
   "id": "2513eba3-0f26-4372-a347-cbc881de68ba",
   "metadata": {},
   "outputs": [],
   "source": [
    "#3. Model Comparison:\n",
    "\n",
    "Compares models based on accuracy.\n",
    "\n",
    "Displays the results in a sorted DataFrame."
   ]
  },
  {
   "cell_type": "code",
   "execution_count": 7,
   "id": "9e104964-1372-4ee1-bd4f-ed62b05db17a",
   "metadata": {},
   "outputs": [
    {
     "name": "stdout",
     "output_type": "stream",
     "text": [
      "                 Model  Accuracy\n",
      "3                  SVM  0.982456\n",
      "0  Logistic Regression  0.973684\n",
      "2        Random Forest  0.964912\n",
      "4                 k-NN  0.947368\n",
      "1        Decision Tree  0.929825\n"
     ]
    }
   ],
   "source": [
    "# 3. Model Comparison\n",
    "results_df = pd.DataFrame(list(results.items()), columns=[\"Model\", \"Accuracy\"])\n",
    "results_df = results_df.sort_values(by=\"Accuracy\", ascending=False)\n",
    "print(results_df)"
   ]
  }
 ],
 "metadata": {
  "kernelspec": {
   "display_name": "Python 3 (ipykernel)",
   "language": "python",
   "name": "python3"
  },
  "language_info": {
   "codemirror_mode": {
    "name": "ipython",
    "version": 3
   },
   "file_extension": ".py",
   "mimetype": "text/x-python",
   "name": "python",
   "nbconvert_exporter": "python",
   "pygments_lexer": "ipython3",
   "version": "3.12.7"
  }
 },
 "nbformat": 4,
 "nbformat_minor": 5
}
